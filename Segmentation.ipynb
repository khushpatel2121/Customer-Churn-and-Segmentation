{
 "cells": [
  {
   "cell_type": "markdown",
   "metadata": {},
   "source": [
    "# Customer Segmentation\n",
    "\n",
    "### Here we segment customers based on Revenue ,Service Usage and Subscription type "
   ]
  },
  {
   "cell_type": "code",
   "execution_count": 8,
   "metadata": {},
   "outputs": [],
   "source": [
    "import pandas as pd\n",
    "from  sklearn.cluster import KMeans\n",
    "from sklearn.preprocessing import StandardScaler\n",
    "import matplotlib.pyplot as plt\n",
    "from sklearn.decomposition import PCA\n",
    "from sklearn.metrics import silhouette_score\n",
    "import seaborn as sns"
   ]
  },
  {
   "cell_type": "code",
   "execution_count": 2,
   "metadata": {},
   "outputs": [],
   "source": [
    "df = pd.read_csv(\"Encoded(3).csv\")\n"
   ]
  },
  {
   "cell_type": "markdown",
   "metadata": {},
   "source": [
    "#### Segementation based on *Revenue* "
   ]
  },
  {
   "cell_type": "code",
   "execution_count": 12,
   "metadata": {},
   "outputs": [
    {
     "ename": "TypeError",
     "evalue": "list indices must be integers or slices, not str",
     "output_type": "error",
     "traceback": [
      "\u001b[0;31m---------------------------------------------------------------------------\u001b[0m",
      "\u001b[0;31mTypeError\u001b[0m                                 Traceback (most recent call last)",
      "Cell \u001b[0;32mIn[12], line 35\u001b[0m\n\u001b[1;32m     33\u001b[0m     \u001b[38;5;66;03m# Calculate Silhouette Score\u001b[39;00m\n\u001b[1;32m     34\u001b[0m     silhouette \u001b[38;5;241m=\u001b[39m silhouette_score(X_scaled, clusters)\n\u001b[0;32m---> 35\u001b[0m     \u001b[43msilhouette_scores\u001b[49m\u001b[43m[\u001b[49m\u001b[43mfeature\u001b[49m\u001b[43m]\u001b[49m \u001b[38;5;241m=\u001b[39m silhouette\n\u001b[1;32m     37\u001b[0m \u001b[38;5;28;01mfor\u001b[39;00m feature, score \u001b[38;5;129;01min\u001b[39;00m silhouette_scores\u001b[38;5;241m.\u001b[39mitems():\n\u001b[1;32m     38\u001b[0m     \u001b[38;5;28mprint\u001b[39m(\u001b[38;5;124mf\u001b[39m\u001b[38;5;124m\"\u001b[39m\u001b[38;5;124mSilhouette Score for \u001b[39m\u001b[38;5;132;01m{\u001b[39;00mfeature\u001b[38;5;132;01m}\u001b[39;00m\u001b[38;5;124m: \u001b[39m\u001b[38;5;132;01m{\u001b[39;00mscore\u001b[38;5;132;01m}\u001b[39;00m\u001b[38;5;124m\"\u001b[39m)\n",
      "\u001b[0;31mTypeError\u001b[0m: list indices must be integers or slices, not str"
     ]
    }
   ],
   "source": [
    "import pandas as pd\n",
    "import matplotlib.pyplot as plt\n",
    "from sklearn.preprocessing import StandardScaler\n",
    "from sklearn.decomposition import PCA\n",
    "from sklearn.cluster import KMeans\n",
    "from sklearn.metrics import silhouette_score\n",
    "\n",
    "# Assuming df is already defined and contains the revenue_features columns\n",
    "\n",
    "# Define the features to be used\n",
    "revenue_features = [\"MonthlyRevenue\", \"MonthlyMinutes\", \"TotalRecurringCharge\", \"DirectorAssistedCalls\", \"OverageMinutes\"]\n",
    "\n",
    "# Standardize the data\n",
    "\n",
    "\n",
    "# Set the number of clusters\n",
    "k = 3\n",
    "clusters_dict = {}\n",
    "silhouette_scores = []\n",
    "\n",
    "# Perform KMeans clustering\n",
    "for feature in revenue_features:\n",
    "    X = df[[feature]].values  # Use the feature's values for clustering\n",
    "    scaler = StandardScaler()\n",
    "    X_scaled = scaler.fit_transform(X)\n",
    "    \n",
    "    kmeans = KMeans(n_clusters=3, random_state=42)\n",
    "    clusters = kmeans.fit_predict(X_scaled)\n",
    "    \n",
    "    clusters_dict[feature] = clusters\n",
    "    df[f'{feature}_Cluster'] = clusters\n",
    "    \n",
    "    # Calculate Silhouette Score\n",
    "    silhouette = silhouette_score(X_scaled, clusters)\n",
    "    silhouette_scores.append(silhouette)\n",
    "\n",
    "# Print Silhouette Scores\n",
    "for idx, feature in enumerate(features):\n",
    "    print(f\"Silhouette Score for {feature}: {silhouette_scores[idx]}\")\n",
    "\n",
    "# Calculate mean silhouette score\n",
    "mean_silhouette_score = sum(silhouette_scores) / len(silhouette_scores)\n",
    "print(\"Mean Silhouette Score:\", mean_silhouette_score)\n",
    "\n",
    "for feature in revenue_features:\n",
    "    cluster_column = f'{feature}_Cluster'\n",
    "    cluster_means = df.groupby(cluster_column)[feature].mean().reset_index()\n",
    "    \n",
    "    plt.figure(figsize=(10, 6))\n",
    "    sns.barplot(x=cluster_column, y=feature, data=cluster_means)\n",
    "    plt.title(f'Average {feature} Value by Cluster')\n",
    "    plt.xlabel('Cluster')\n",
    "    plt.ylabel(f'Average {feature} Value')\n",
    "    plt.show()\n"
   ]
  },
  {
   "cell_type": "code",
   "execution_count": null,
   "metadata": {},
   "outputs": [],
   "source": []
  }
 ],
 "metadata": {
  "kernelspec": {
   "display_name": "Python 3",
   "language": "python",
   "name": "python3"
  },
  "language_info": {
   "codemirror_mode": {
    "name": "ipython",
    "version": 3
   },
   "file_extension": ".py",
   "mimetype": "text/x-python",
   "name": "python",
   "nbconvert_exporter": "python",
   "pygments_lexer": "ipython3",
   "version": "3.11.7"
  }
 },
 "nbformat": 4,
 "nbformat_minor": 2
}
